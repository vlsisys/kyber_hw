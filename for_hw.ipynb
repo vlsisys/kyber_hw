{
 "cells": [
  {
   "cell_type": "code",
   "execution_count": null,
   "metadata": {},
   "outputs": [],
   "source": [
    "from CompactFIPS202 import *\n",
    "import binascii\n",
    "import os\n",
    "from hashlib import sha3_256, sha3_512, shake_128, shake_256\n",
    "from kyber import Kyber512, Kyber768, Kyber1024\n",
    "from aes256_ctr_drbg import AES256_CTR_DRBG\n",
    "import itertools\n",
    "\n",
    "os.system('rm -rf ./vec')\n",
    "\n",
    "def parse_kat_data(data):\n",
    "    parsed_data = {}\n",
    "    count_blocks = data.split('\\n\\n')\n",
    "    for block in count_blocks[1:-1]:\n",
    "        block_data = block.split('\\n')\n",
    "        count, seed, pk, sk, ct, ss = [line.split(\" = \")[-1] for line in block_data]\n",
    "        parsed_data[count] = {\n",
    "            \"seed\": bytes.fromhex(seed),\n",
    "            \"pk\": bytes.fromhex(pk),\n",
    "            \"sk\": bytes.fromhex(sk),\n",
    "            \"ct\": bytes.fromhex(ct),\n",
    "            \"ss\": bytes.fromhex(ss),   \n",
    "        }\n",
    "    return parsed_data"
   ]
  },
  {
   "cell_type": "code",
   "execution_count": null,
   "metadata": {},
   "outputs": [],
   "source": [
    "with open(\"assets/PQCkemKAT_1632.rsp\") as f:\n",
    "    kat_data = f.read()\n",
    "    parsed_data = parse_kat_data(kat_data)\n",
    "\n",
    "data = parsed_data['0']\n",
    "seed, pk, sk, ct, ss = data.values()\n",
    "        \n",
    "# Seed DRBG with KAT seed\n",
    "Kyber512.set_drbg_seed(seed)\n",
    "# Assert keygen matches\n",
    "_pk, _sk = Kyber512.keygen()\n",
    "\n",
    "# Assert encapsulation matches\n",
    "_ct, _ss = Kyber512.enc(_pk)\n",
    "\n",
    "#    # Assert decapsulation matches\n",
    "#    __ss = Kyber512.dec(ct, sk)"
   ]
  },
  {
   "cell_type": "code",
   "execution_count": null,
   "metadata": {},
   "outputs": [],
   "source": [
    "seed.hex()"
   ]
  },
  {
   "cell_type": "code",
   "execution_count": null,
   "metadata": {},
   "outputs": [],
   "source": [
    "(pk == _pk) == (sk == _sk) == (ct == _ct) == (ss == _ss)"
   ]
  },
  {
   "cell_type": "code",
   "execution_count": null,
   "metadata": {},
   "outputs": [],
   "source": [
    "random_bytes = os.urandom"
   ]
  },
  {
   "cell_type": "code",
   "execution_count": null,
   "metadata": {},
   "outputs": [],
   "source": [
    "a = random_bytes(32)"
   ]
  },
  {
   "cell_type": "code",
   "execution_count": null,
   "metadata": {},
   "outputs": [],
   "source": [
    "Kyber512._xof_a.hex()"
   ]
  },
  {
   "cell_type": "markdown",
   "metadata": {},
   "source": []
  },
  {
   "cell_type": "code",
   "execution_count": null,
   "metadata": {},
   "outputs": [],
   "source": [
    "a = shake_128(Kyber512._xof_input_bytes).digest(Kyber512._xof_length).hex()"
   ]
  },
  {
   "cell_type": "code",
   "execution_count": null,
   "metadata": {},
   "outputs": [],
   "source": [
    "b = SHAKE128(Kyber512._xof_input_bytes, Kyber512._xof_length).hex()"
   ]
  },
  {
   "cell_type": "code",
   "execution_count": null,
   "metadata": {},
   "outputs": [],
   "source": [
    "a == b"
   ]
  },
  {
   "cell_type": "code",
   "execution_count": null,
   "metadata": {},
   "outputs": [],
   "source": [
    "a"
   ]
  },
  {
   "cell_type": "code",
   "execution_count": null,
   "metadata": {},
   "outputs": [],
   "source": [
    "len (a)"
   ]
  },
  {
   "cell_type": "code",
   "execution_count": null,
   "metadata": {},
   "outputs": [],
   "source": [
    "b"
   ]
  },
  {
   "cell_type": "code",
   "execution_count": null,
   "metadata": {},
   "outputs": [],
   "source": [
    "a = sha3_256(Kyber512._xof_input_bytes).digest().hex()"
   ]
  },
  {
   "cell_type": "code",
   "execution_count": null,
   "metadata": {},
   "outputs": [],
   "source": [
    "b = SHA3_256(Kyber512._xof_input_bytes).hex()"
   ]
  },
  {
   "cell_type": "code",
   "execution_count": null,
   "metadata": {},
   "outputs": [],
   "source": [
    "a == b"
   ]
  },
  {
   "cell_type": "code",
   "execution_count": null,
   "metadata": {},
   "outputs": [],
   "source": [
    "a"
   ]
  },
  {
   "cell_type": "code",
   "execution_count": null,
   "metadata": {},
   "outputs": [],
   "source": [
    "b"
   ]
  },
  {
   "cell_type": "code",
   "execution_count": null,
   "metadata": {},
   "outputs": [],
   "source": [
    "rates = [1344, 1088, 1152, 1088, 832, 579]"
   ]
  },
  {
   "cell_type": "code",
   "execution_count": null,
   "metadata": {},
   "outputs": [],
   "source": [
    "for rate in rates:\n",
    "    print(rate>>3)"
   ]
  },
  {
   "cell_type": "code",
   "execution_count": null,
   "metadata": {},
   "outputs": [],
   "source": [
    "512//8"
   ]
  },
  {
   "cell_type": "code",
   "execution_count": null,
   "metadata": {},
   "outputs": [],
   "source": [
    "a = bytearray([0 for i in range(2)])\n",
    "b = bytearray([0 for i in range(2)])\n",
    "c = bytearray(2)\n",
    "c[0] = a[0] ^ b[0]\n",
    "c[0]"
   ]
  },
  {
   "cell_type": "code",
   "execution_count": null,
   "metadata": {},
   "outputs": [],
   "source": [
    "72*8/64"
   ]
  },
  {
   "cell_type": "code",
   "execution_count": null,
   "metadata": {},
   "outputs": [],
   "source": []
  }
 ],
 "metadata": {
  "kernelspec": {
   "display_name": "kyber",
   "language": "python",
   "name": "python3"
  },
  "language_info": {
   "codemirror_mode": {
    "name": "ipython",
    "version": 3
   },
   "file_extension": ".py",
   "mimetype": "text/x-python",
   "name": "python",
   "nbconvert_exporter": "python",
   "pygments_lexer": "ipython3",
   "version": "3.12.3"
  }
 },
 "nbformat": 4,
 "nbformat_minor": 2
}
