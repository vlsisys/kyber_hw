{
 "cells": [
  {
   "cell_type": "code",
   "execution_count": 1,
   "metadata": {},
   "outputs": [],
   "source": [
    "from CompactFIPS202 import *\n",
    "import binascii\n",
    "import os\n",
    "from hashlib import sha3_256, sha3_512, shake_128, shake_256\n",
    "from kyber import Kyber512, Kyber768, Kyber1024\n",
    "from aes256_ctr_drbg import AES256_CTR_DRBG\n",
    "\n",
    "def parse_kat_data(data):\n",
    "    parsed_data = {}\n",
    "    count_blocks = data.split('\\n\\n')\n",
    "    for block in count_blocks[1:-1]:\n",
    "        block_data = block.split('\\n')\n",
    "        count, seed, pk, sk, ct, ss = [line.split(\" = \")[-1] for line in block_data]\n",
    "        parsed_data[count] = {\n",
    "            \"seed\": bytes.fromhex(seed),\n",
    "            \"pk\": bytes.fromhex(pk),\n",
    "            \"sk\": bytes.fromhex(sk),\n",
    "            \"ct\": bytes.fromhex(ct),\n",
    "            \"ss\": bytes.fromhex(ss),   \n",
    "        }\n",
    "    return parsed_data"
   ]
  },
  {
   "cell_type": "code",
   "execution_count": 2,
   "metadata": {},
   "outputs": [],
   "source": [
    "with open(\"assets/PQCkemKAT_1632.rsp\") as f:\n",
    "    kat_data = f.read()\n",
    "    parsed_data = parse_kat_data(kat_data)\n",
    "\n",
    "data = parsed_data['0']\n",
    "seed, pk, sk, ct, ss = data.values()\n",
    "        \n",
    "# Seed DRBG with KAT seed\n",
    "Kyber512.set_drbg_seed(seed)\n",
    "# Assert keygen matches\n",
    "_pk, _sk = Kyber512.keygen()\n",
    "\n",
    "# Assert encapsulation matches\n",
    "_ct, _ss = Kyber512.enc(_pk)\n",
    "\n",
    "#    # Assert decapsulation matches\n",
    "#    __ss = Kyber512.dec(ct, sk)"
   ]
  },
  {
   "cell_type": "code",
   "execution_count": 3,
   "metadata": {},
   "outputs": [
    {
     "data": {
      "text/plain": [
       "'061550234d158c5ec95595fe04ef7a25767f2e24cc2bc479d09d86dc9abcfde7056a8c266f9ef97ed08541dbd2e1ffa1'"
      ]
     },
     "execution_count": 3,
     "metadata": {},
     "output_type": "execute_result"
    }
   ],
   "source": [
    "seed.hex()"
   ]
  },
  {
   "cell_type": "code",
   "execution_count": 4,
   "metadata": {},
   "outputs": [
    {
     "data": {
      "text/plain": [
       "True"
      ]
     },
     "execution_count": 4,
     "metadata": {},
     "output_type": "execute_result"
    }
   ],
   "source": [
    "pk == _pk"
   ]
  },
  {
   "cell_type": "code",
   "execution_count": 5,
   "metadata": {},
   "outputs": [
    {
     "data": {
      "text/plain": [
       "True"
      ]
     },
     "execution_count": 5,
     "metadata": {},
     "output_type": "execute_result"
    }
   ],
   "source": [
    "(pk == _pk) == (sk == _sk) == (ct == _ct) == (ss == _ss)"
   ]
  },
  {
   "cell_type": "code",
   "execution_count": 6,
   "metadata": {},
   "outputs": [],
   "source": [
    "random_bytes = os.urandom"
   ]
  },
  {
   "cell_type": "code",
   "execution_count": 7,
   "metadata": {},
   "outputs": [],
   "source": [
    "a = random_bytes(32)"
   ]
  },
  {
   "cell_type": "code",
   "execution_count": 8,
   "metadata": {},
   "outputs": [
    {
     "data": {
      "text/plain": [
       "1"
      ]
     },
     "execution_count": 8,
     "metadata": {},
     "output_type": "execute_result"
    }
   ],
   "source": [
    "len(Kyber512._xof_a)"
   ]
  },
  {
   "cell_type": "code",
   "execution_count": 9,
   "metadata": {},
   "outputs": [
    {
     "data": {
      "text/plain": [
       "34"
      ]
     },
     "execution_count": 9,
     "metadata": {},
     "output_type": "execute_result"
    }
   ],
   "source": [
    "len(Kyber512._xof_input_bytes)"
   ]
  },
  {
   "cell_type": "code",
   "execution_count": 10,
   "metadata": {},
   "outputs": [
    {
     "data": {
      "text/plain": [
       "'01'"
      ]
     },
     "execution_count": 10,
     "metadata": {},
     "output_type": "execute_result"
    }
   ],
   "source": [
    "Kyber512._xof_a.hex()"
   ]
  },
  {
   "cell_type": "code",
   "execution_count": 11,
   "metadata": {},
   "outputs": [],
   "source": [
    "a = shake_128(Kyber512._xof_input_bytes).digest(Kyber512._xof_length).hex()"
   ]
  },
  {
   "cell_type": "code",
   "execution_count": 12,
   "metadata": {},
   "outputs": [
    {
     "name": "stdout",
     "output_type": "stream",
     "text": [
      "[[885738389246962277, 0, 0, 0, 9223372036854775808], [1554946951491850079, 0, 0, 0, 0], [10097308149613174153, 0, 0, 0, 0], [2466201460356326228, 0, 0, 0, 0], [2031873, 0, 0, 0, 0]]\n",
      "[[13945236032936597125, 10144667240262694917, 2854837008212362804, 5510798064491279528, 10649859246619797596], [9618096872207591557, 3074827116302497218, 14279517561725204819, 15146932421457323213, 18193092708702448085], [6506339989559711229, 17814707969875772848, 13508111384288291931, 332785224959981807, 5836078173918574524], [10584102647138126943, 14822784191085864509, 9889073907843170860, 6266883757563277364, 8757664554044316764], [15540293597810366709, 10946536803342694163, 5358925043751425461, 233542234349471477, 5853087487196293284]]\n",
      "[[9834587190136136295, 10449133524115970660, 13738987947225894368, 7163016936840495663, 8965792112117801652], [5502469702469101644, 3579287621522426969, 6137210619937726070, 17290108940877493852, 4618127811272740221], [1765384516403509340, 6126862305691337853, 7391340105207373055, 11130757441654230949, 9932697466156759562], [5493140979318807399, 3829947142228246599, 13211738556939242589, 1543276650748376022, 14098091548262287849], [292145613424202273, 14960825332710749226, 11567317775154384427, 5650868660434884346, 776483896020511210]]\n",
      "[[6326925225022803088, 4079970741120577391, 9654230210912821123, 1499074484242566482, 17149594806535114837], [13785196965362048233, 10788113474235134993, 5103730660150890115, 5901970394337250581, 9029173541694577847], [8075631587747498609, 2846569312827361353, 13689887160708716537, 6790920987515982919, 669675289263090575], [15616095835469444099, 881995651031862054, 6084742240681746132, 8382448547453263058, 10050283183078723693], [1548439929301705146, 7202887357946882531, 12621904172556351862, 1641379498483327061, 13892502296396087704]]\n",
      "[[17669556053884141453, 14606475848810506431, 12359557112994876186, 7926054094073026690, 939134263477104903], [6563545582720848107, 5547223178290317012, 2031148602595373487, 12171027415933439991, 5087118421254012322], [13840575167108644362, 5693331260019063593, 5323523188923078845, 6927776698398523495, 14972748237791087257], [3612662077049407072, 16619839519441710418, 8742518556119888880, 17742557446857991929, 16979870632539622441], [13605341965397519621, 4006911000313759668, 9165979499430815283, 35718392567683530, 5501633377177326437]]\n"
     ]
    }
   ],
   "source": [
    "b = SHAKE128(Kyber512._xof_input_bytes, Kyber512._xof_length).hex()"
   ]
  },
  {
   "cell_type": "code",
   "execution_count": 24,
   "metadata": {},
   "outputs": [
    {
     "data": {
      "text/plain": [
       "885738389246962277"
      ]
     },
     "execution_count": 24,
     "metadata": {},
     "output_type": "execute_result"
    }
   ],
   "source": [
    "lanes = [[885738389246962277, 0, 0, 0, 9223372036854775808], [1554946951491850079, 0, 0, 0, 0], [10097308149613174153, 0, 0, 0, 0], [2466201460356326228, 0, 0, 0, 0], [2031873, 0, 0, 0, 0]]\n",
    "lanes[0][0]"
   ]
  },
  {
   "cell_type": "code",
   "execution_count": 26,
   "metadata": {},
   "outputs": [
    {
     "data": {
      "text/plain": [
       "[[0, 2, 4, 6, 8],\n",
       " [1, 3, 5, 7, 9],\n",
       " [2, 4, 6, 8, 10],\n",
       " [3, 5, 7, 9, 11],\n",
       " [4, 6, 8, 10, 12]]"
      ]
     },
     "execution_count": 26,
     "metadata": {},
     "output_type": "execute_result"
    }
   ],
   "source": [
    "aList = [[x+2*y for y in range(5)] for x in range(5)]\n",
    "aList"
   ]
  },
  {
   "cell_type": "code",
   "execution_count": 14,
   "metadata": {},
   "outputs": [
    {
     "data": {
      "text/plain": [
       "[885738389246962277,\n",
       " 0,\n",
       " 0,\n",
       " 0,\n",
       " 9223372036854775808,\n",
       " 1554946951491850079,\n",
       " 0,\n",
       " 0,\n",
       " 0,\n",
       " 0,\n",
       " 10097308149613174153,\n",
       " 0,\n",
       " 0,\n",
       " 0,\n",
       " 0,\n",
       " 2466201460356326228,\n",
       " 0,\n",
       " 0,\n",
       " 0,\n",
       " 0,\n",
       " 2031873,\n",
       " 0,\n",
       " 0,\n",
       " 0,\n",
       " 0]"
      ]
     },
     "execution_count": 14,
     "metadata": {},
     "output_type": "execute_result"
    }
   ],
   "source": [
    "import itertools\n",
    "bList = list(itertools.chain(*aList))\n",
    "len(bin(max(bList)).replace('0b',''))\n",
    "bList"
   ]
  },
  {
   "cell_type": "code",
   "execution_count": 15,
   "metadata": {},
   "outputs": [
    {
     "data": {
      "text/plain": [
       "3748722386525724199"
      ]
     },
     "execution_count": 15,
     "metadata": {},
     "output_type": "execute_result"
    }
   ],
   "source": [
    "my_list = [52, 6, 35, 38, 34, 107, 158, 39]\n",
    "int(''.join(hex(x).replace('0x', '').rjust(2, '0') for x in my_list), 16)"
   ]
  },
  {
   "cell_type": "code",
   "execution_count": 16,
   "metadata": {},
   "outputs": [
    {
     "data": {
      "text/plain": [
       "'06'"
      ]
     },
     "execution_count": 16,
     "metadata": {},
     "output_type": "execute_result"
    }
   ],
   "source": [
    "hex(6).replace('0x','').rjust(2, '0')"
   ]
  },
  {
   "cell_type": "code",
   "execution_count": 17,
   "metadata": {},
   "outputs": [],
   "source": [
    "a = sha3_256(Kyber512._xof_input_bytes).digest().hex()"
   ]
  },
  {
   "cell_type": "code",
   "execution_count": 18,
   "metadata": {},
   "outputs": [
    {
     "name": "stdout",
     "output_type": "stream",
     "text": [
      "[[885738389246962277, 0, 0, 0, 0], [1554946951491850079, 0, 0, 9223372036854775808, 0], [10097308149613174153, 0, 0, 0, 0], [2466201460356326228, 0, 0, 0, 0], [393473, 0, 0, 0, 0]]\n"
     ]
    }
   ],
   "source": [
    "b = SHA3_256(Kyber512._xof_input_bytes).hex()"
   ]
  },
  {
   "cell_type": "code",
   "execution_count": 19,
   "metadata": {},
   "outputs": [
    {
     "data": {
      "text/plain": [
       "True"
      ]
     },
     "execution_count": 19,
     "metadata": {},
     "output_type": "execute_result"
    }
   ],
   "source": [
    "a == b"
   ]
  },
  {
   "cell_type": "code",
   "execution_count": 20,
   "metadata": {},
   "outputs": [
    {
     "data": {
      "text/plain": [
       "'20658677b2e1f5f524759dc04a97f238856e5031e972cd9e52387e147e325bab'"
      ]
     },
     "execution_count": 20,
     "metadata": {},
     "output_type": "execute_result"
    }
   ],
   "source": [
    "a"
   ]
  },
  {
   "cell_type": "code",
   "execution_count": 21,
   "metadata": {},
   "outputs": [
    {
     "data": {
      "text/plain": [
       "'20658677b2e1f5f524759dc04a97f238856e5031e972cd9e52387e147e325bab'"
      ]
     },
     "execution_count": 21,
     "metadata": {},
     "output_type": "execute_result"
    }
   ],
   "source": [
    "b"
   ]
  },
  {
   "cell_type": "code",
   "execution_count": 22,
   "metadata": {},
   "outputs": [
    {
     "data": {
      "text/plain": [
       "bytearray(b'\\x00\\x00')"
      ]
     },
     "execution_count": 22,
     "metadata": {},
     "output_type": "execute_result"
    }
   ],
   "source": [
    "state = bytearray([0 for i in range(2)])\n",
    "state"
   ]
  },
  {
   "cell_type": "code",
   "execution_count": 23,
   "metadata": {},
   "outputs": [
    {
     "name": "stdout",
     "output_type": "stream",
     "text": [
      "0\n",
      "1\n",
      "2\n",
      "3\n",
      "4\n"
     ]
    }
   ],
   "source": [
    "for a in range(5):\n",
    "    print(a)"
   ]
  },
  {
   "cell_type": "code",
   "execution_count": null,
   "metadata": {},
   "outputs": [],
   "source": []
  }
 ],
 "metadata": {
  "kernelspec": {
   "display_name": "kyber",
   "language": "python",
   "name": "python3"
  },
  "language_info": {
   "codemirror_mode": {
    "name": "ipython",
    "version": 3
   },
   "file_extension": ".py",
   "mimetype": "text/x-python",
   "name": "python",
   "nbconvert_exporter": "python",
   "pygments_lexer": "ipython3",
   "version": "3.12.3"
  }
 },
 "nbformat": 4,
 "nbformat_minor": 2
}
