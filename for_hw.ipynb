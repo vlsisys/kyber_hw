{
 "cells": [
  {
   "cell_type": "code",
   "execution_count": 1,
   "metadata": {},
   "outputs": [],
   "source": [
    "from CompactFIPS202 import *\n",
    "import binascii\n",
    "import os\n",
    "from hashlib import sha3_256, sha3_512, shake_128, shake_256\n",
    "from kyber import Kyber512, Kyber768, Kyber1024\n",
    "from aes256_ctr_drbg import AES256_CTR_DRBG\n",
    "\n",
    "def parse_kat_data(data):\n",
    "    parsed_data = {}\n",
    "    count_blocks = data.split('\\n\\n')\n",
    "    for block in count_blocks[1:-1]:\n",
    "        block_data = block.split('\\n')\n",
    "        count, seed, pk, sk, ct, ss = [line.split(\" = \")[-1] for line in block_data]\n",
    "        parsed_data[count] = {\n",
    "            \"seed\": bytes.fromhex(seed),\n",
    "            \"pk\": bytes.fromhex(pk),\n",
    "            \"sk\": bytes.fromhex(sk),\n",
    "            \"ct\": bytes.fromhex(ct),\n",
    "            \"ss\": bytes.fromhex(ss),   \n",
    "        }\n",
    "    return parsed_data"
   ]
  },
  {
   "cell_type": "code",
   "execution_count": 2,
   "metadata": {},
   "outputs": [],
   "source": [
    "with open(\"assets/PQCkemKAT_1632.rsp\") as f:\n",
    "    kat_data = f.read()\n",
    "    parsed_data = parse_kat_data(kat_data)\n",
    "\n",
    "data = parsed_data['0']\n",
    "seed, pk, sk, ct, ss = data.values()\n",
    "        \n",
    "# Seed DRBG with KAT seed\n",
    "Kyber512.set_drbg_seed(seed)\n",
    "# Assert keygen matches\n",
    "_pk, _sk = Kyber512.keygen()\n",
    "\n",
    "# Assert encapsulation matches\n",
    "_ct, _ss = Kyber512.enc(_pk)\n",
    "\n",
    "#    # Assert decapsulation matches\n",
    "#    __ss = Kyber512.dec(ct, sk)"
   ]
  },
  {
   "cell_type": "code",
   "execution_count": 3,
   "metadata": {},
   "outputs": [
    {
     "data": {
      "text/plain": [
       "'061550234d158c5ec95595fe04ef7a25767f2e24cc2bc479d09d86dc9abcfde7056a8c266f9ef97ed08541dbd2e1ffa1'"
      ]
     },
     "execution_count": 3,
     "metadata": {},
     "output_type": "execute_result"
    }
   ],
   "source": [
    "seed.hex()"
   ]
  },
  {
   "cell_type": "code",
   "execution_count": 4,
   "metadata": {},
   "outputs": [
    {
     "data": {
      "text/plain": [
       "True"
      ]
     },
     "execution_count": 4,
     "metadata": {},
     "output_type": "execute_result"
    }
   ],
   "source": [
    "pk == _pk"
   ]
  },
  {
   "cell_type": "code",
   "execution_count": 5,
   "metadata": {},
   "outputs": [
    {
     "data": {
      "text/plain": [
       "True"
      ]
     },
     "execution_count": 5,
     "metadata": {},
     "output_type": "execute_result"
    }
   ],
   "source": [
    "(pk == _pk) == (sk == _sk) == (ct == _ct) == (ss == _ss)"
   ]
  },
  {
   "cell_type": "code",
   "execution_count": 6,
   "metadata": {},
   "outputs": [],
   "source": [
    "random_bytes = os.urandom"
   ]
  },
  {
   "cell_type": "code",
   "execution_count": 7,
   "metadata": {},
   "outputs": [],
   "source": [
    "a = random_bytes(32)"
   ]
  },
  {
   "cell_type": "code",
   "execution_count": 8,
   "metadata": {},
   "outputs": [
    {
     "data": {
      "text/plain": [
       "1"
      ]
     },
     "execution_count": 8,
     "metadata": {},
     "output_type": "execute_result"
    }
   ],
   "source": [
    "len(Kyber512._xof_a)"
   ]
  },
  {
   "cell_type": "code",
   "execution_count": 9,
   "metadata": {},
   "outputs": [
    {
     "data": {
      "text/plain": [
       "34"
      ]
     },
     "execution_count": 9,
     "metadata": {},
     "output_type": "execute_result"
    }
   ],
   "source": [
    "len(Kyber512._xof_input_bytes)"
   ]
  },
  {
   "cell_type": "code",
   "execution_count": 10,
   "metadata": {},
   "outputs": [
    {
     "data": {
      "text/plain": [
       "'01'"
      ]
     },
     "execution_count": 10,
     "metadata": {},
     "output_type": "execute_result"
    }
   ],
   "source": [
    "Kyber512._xof_a.hex()"
   ]
  },
  {
   "cell_type": "code",
   "execution_count": 11,
   "metadata": {},
   "outputs": [],
   "source": [
    "a = shake_128(Kyber512._xof_input_bytes).digest(Kyber512._xof_length).hex()"
   ]
  },
  {
   "cell_type": "code",
   "execution_count": 12,
   "metadata": {},
   "outputs": [
    {
     "name": "stdout",
     "output_type": "stream",
     "text": [
      "bytearray(b'e\\xea\\xfdF_\\xc6J\\x0c')\n",
      "bytearray(b'\\x00\\x00\\x00\\x00\\x00\\x00\\x00\\x00')\n",
      "bytearray(b'\\x00\\x00\\x00\\x00\\x00\\x00\\x00\\x00')\n",
      "bytearray(b'\\x00\\x00\\x00\\x00\\x00\\x00\\x00\\x00')\n",
      "bytearray(b'\\x00\\x00\\x00\\x00\\x00\\x00\\x00\\x80')\n",
      "bytearray(b'_\\x8f?\\x90\\x03H\\x94\\x15')\n",
      "bytearray(b'\\x00\\x00\\x00\\x00\\x00\\x00\\x00\\x00')\n",
      "bytearray(b'\\x00\\x00\\x00\\x00\\x00\\x00\\x00\\x00')\n",
      "bytearray(b'\\x00\\x00\\x00\\x00\\x00\\x00\\x00\\x00')\n",
      "bytearray(b'\\x00\\x00\\x00\\x00\\x00\\x00\\x00\\x00')\n",
      "bytearray(b'\\x89\\x9dY\\xa5C\\xd8 \\x8c')\n",
      "bytearray(b'\\x00\\x00\\x00\\x00\\x00\\x00\\x00\\x00')\n",
      "bytearray(b'\\x00\\x00\\x00\\x00\\x00\\x00\\x00\\x00')\n",
      "bytearray(b'\\x00\\x00\\x00\\x00\\x00\\x00\\x00\\x00')\n",
      "bytearray(b'\\x00\\x00\\x00\\x00\\x00\\x00\\x00\\x00')\n",
      "bytearray(b'T\\xa3\\x16e)\\xb59\"')\n",
      "bytearray(b'\\x00\\x00\\x00\\x00\\x00\\x00\\x00\\x00')\n",
      "bytearray(b'\\x00\\x00\\x00\\x00\\x00\\x00\\x00\\x00')\n",
      "bytearray(b'\\x00\\x00\\x00\\x00\\x00\\x00\\x00\\x00')\n",
      "bytearray(b'\\x00\\x00\\x00\\x00\\x00\\x00\\x00\\x00')\n",
      "bytearray(b'\\x01\\x01\\x1f\\x00\\x00\\x00\\x00\\x00')\n",
      "bytearray(b'\\x00\\x00\\x00\\x00\\x00\\x00\\x00\\x00')\n",
      "bytearray(b'\\x00\\x00\\x00\\x00\\x00\\x00\\x00\\x00')\n",
      "bytearray(b'\\x00\\x00\\x00\\x00\\x00\\x00\\x00\\x00')\n",
      "bytearray(b'\\x00\\x00\\x00\\x00\\x00\\x00\\x00\\x00')\n",
      "13945236032936597125\n",
      "10144667240262694917\n",
      "2854837008212362804\n",
      "5510798064491279528\n",
      "10649859246619797596\n",
      "9618096872207591557\n",
      "3074827116302497218\n",
      "14279517561725204819\n",
      "15146932421457323213\n",
      "18193092708702448085\n",
      "6506339989559711229\n",
      "17814707969875772848\n",
      "13508111384288291931\n",
      "332785224959981807\n",
      "5836078173918574524\n",
      "10584102647138126943\n",
      "14822784191085864509\n",
      "9889073907843170860\n",
      "6266883757563277364\n",
      "8757664554044316764\n",
      "15540293597810366709\n",
      "10946536803342694163\n",
      "5358925043751425461\n",
      "233542234349471477\n",
      "5853087487196293284\n",
      "bytearray(b'\\x85\\xd6)tIn\\x87\\xc1')\n",
      "bytearray(b'\\x05xf4\\x1b\\x19\\xc9\\x8c')\n",
      "bytearray(b'4\\x06#&\"k\\x9e\\'')\n",
      "bytearray(b'\\xa8\\xb4\\xe9f\\xa4IzL')\n",
      "bytearray(b'\\\\\\xa8\\xae6\\x8f\\xe6\\xcb\\x93')\n",
      "bytearray(b'\\x85\\xa8:{%Xz\\x85')\n",
      "bytearray(b'\\xc2\\xf5\\xf2\\x9c\\xf8\\xfa\\xab*')\n",
      "bytearray(b'S9\\x95\\xf6\\x90\\t+\\xc6')\n",
      "bytearray(b'\\xcd\\xa4\\xcf\\x11\\xc9\\xb64\\xd2')\n",
      "bytearray(b'\\xd5i\\xf5km\\xd9z\\xfc')\n",
      "bytearray(b'\\xfd\\x15\\xa0\\x99\\xbf)KZ')\n",
      "bytearray(b'\\xb0\\x05\\xc4!\\x83\\x8e:\\xf7')\n",
      "bytearray(b'[\\xec\\xe9&\\xbcsv\\xbb')\n",
      "bytearray(b'\\xef\\xf8< fJ\\x9e\\x04')\n",
      "bytearray(b'\\xbc\\xb7\\xd3\\xa5-\\xea\\xfdP')\n",
      "bytearray(b'_\\x8c\\xf0\\xd4GI\\xe2\\x92')\n",
      "bytearray(b'=\\xe6\\xf2\\xf3\\xaf\\x1b\\xb5\\xcd')\n",
      "bytearray(b',\\x82\\x93\\x1aS\\x0c=\\x89')\n",
      "bytearray(b'4p9\\xfa\\x92q\\xf8V')\n",
      "bytearray(b'\\\\\\\\\\xd7\\x05\\x83y\\x89y')\n",
      "bytearray(b'\\xf5\\x98\\xc3\\xf2\\xb06\\xaa\\xd7')\n",
      "bytearray(b'\\x137\\xfb\\xb39\\xe9\\xe9\\x97')\n",
      "bytearray(b'\\xb5\\x95\\xbf:\\xef\\xb9^J')\n",
      "bytearray(b'\\xf5\\x86s\\xbel\\xb5=\\x03')\n",
      "bytearray(b'\\xa4h\\x9e\\x01\\x0fX:Q')\n",
      "9834587190136136295\n",
      "10449133524115970660\n",
      "13738987947225894368\n",
      "7163016936840495663\n",
      "8965792112117801652\n",
      "5502469702469101644\n",
      "3579287621522426969\n",
      "6137210619937726070\n",
      "17290108940877493852\n",
      "4618127811272740221\n",
      "1765384516403509340\n",
      "6126862305691337853\n",
      "7391340105207373055\n",
      "11130757441654230949\n",
      "9932697466156759562\n",
      "5493140979318807399\n",
      "3829947142228246599\n",
      "13211738556939242589\n",
      "1543276650748376022\n",
      "14098091548262287849\n",
      "292145613424202273\n",
      "14960825332710749226\n",
      "11567317775154384427\n",
      "5650868660434884346\n",
      "776483896020511210\n",
      "bytearray(b'g\\xe2\\xab\\x8c\\xf1x{\\x88')\n",
      "bytearray(b'd\\xda\\x8e\\x0b\\x94\\xc7\\x02\\x91')\n",
      "bytearray(b'\\xe0\\xcd\\xc5\\xe7\\xbe\\xb0\\xaa\\xbe')\n",
      "bytearray(b'/\\x02|\\xe8\\xf3%hc')\n",
      "bytearray(b'\\xb4\\xe2\\xc7Tl\\xe4l|')\n",
      "bytearray(b'L(\\x05\\x83\\n\\xb3\\\\L')\n",
      "bytearray(b'Y\\x0c\\xcc\\xbd /\\xac1')\n",
      "bytearray(b'v\\x9e$\\xe1\\x8a\\xc0+U')\n",
      "bytearray(b'\\\\\\xf6\\xce\\x8cy\\xce\\xf2\\xef')\n",
      "bytearray(b'}\\x8dC\\xc6\\xc6\\xe2\\x16@')\n",
      "bytearray(b'\\\\\\xb84@\\xdd\\xe7\\x7f\\x18')\n",
      "bytearray(b'}\\x84v6\\xce\\xfc\\x06U')\n",
      "bytearray(b'\\xff\\xdc\\xfb(\\xaaP\\x93f')\n",
      "bytearray(b'\\xa5\\x0f\\xd6~\\xebdx\\x9a')\n",
      "bytearray(b'\\n:\\xb2C\\xb8\\x07\\xd8\\x89')\n",
      "bytearray(b'g[p\\xe5\\x9d\\x8e;L')\n",
      "bytearray(b'G\\x80\\tI\\xa2\\xb4&5')\n",
      "bytearray(b']\\x0c\\xb2\\xff7\\x86Y\\xb7')\n",
      "bytearray(b'\\xd6\\xf3\\x02\\xee\\xef\\xd1j\\x15')\n",
      "bytearray(b'\\xe9I\\x1cy\\x91{\\xa6\\xc3')\n",
      "bytearray(b'!\\x92\\xd66\\xe3\\xe8\\r\\x04')\n",
      "bytearray(b'*\\xb4\\xe3\\xce_\\x87\\x9f\\xcf')\n",
      "bytearray(b'+\\x8e#\\xf0:^\\x87\\xa0')\n",
      "bytearray(b'\\xfa\\xd6\\x9bi\\x1b\\xebkN')\n",
      "bytearray(b'\\xea)\\x1dL\\xfd\\x9f\\xc6\\n')\n",
      "6326925225022803088\n",
      "4079970741120577391\n",
      "9654230210912821123\n",
      "1499074484242566482\n",
      "17149594806535114837\n",
      "13785196965362048233\n",
      "10788113474235134993\n",
      "5103730660150890115\n",
      "5901970394337250581\n",
      "9029173541694577847\n",
      "8075631587747498609\n",
      "2846569312827361353\n",
      "13689887160708716537\n",
      "6790920987515982919\n",
      "669675289263090575\n",
      "15616095835469444099\n",
      "881995651031862054\n",
      "6084742240681746132\n",
      "8382448547453263058\n",
      "10050283183078723693\n",
      "1548439929301705146\n",
      "7202887357946882531\n",
      "12621904172556351862\n",
      "1641379498483327061\n",
      "13892502296396087704\n",
      "bytearray(b'\\x90L\\xf1}\\xf8\\xc0\\xcdW')\n",
      "bytearray(b'o\\xafz\\xbe\\xc5\\xf7\\x9e8')\n",
      "bytearray(b'\\x83\\x9fM\\xfd9\\xb7\\xfa\\x85')\n",
      "bytearray(b'RM!\\rM\\xc8\\xcd\\x14')\n",
      "bytearray(b'U\\xd0h5\\x9d\\x99\\xff\\xed')\n",
      "bytearray(b'\\xe9\\x9c2W\\x9a\\xdbN\\xbf')\n",
      "bytearray(b'\\x11\\xf4c\\x04\\x0c\\x14\\xb7\\x95')\n",
      "bytearray(b'\\x83N\\x90\\xa3\\xfe\\x17\\xd4F')\n",
      "bytearray(b'\\x15\\rX\\xbd\\xcd\\x02\\xe8Q')\n",
      "bytearray(b'\\xb7\\x9c\\x0f`\\x7f\\x11N}')\n",
      "bytearray(b'q\\n\\x9d|$h\\x12p')\n",
      "bytearray(b\"IH\\x9aO\\xb5\\x0b\\x81\\'\")\n",
      "bytearray(b'\\xf9W9-\\xd7?\\xfc\\xbd')\n",
      "bytearray(b'G\\x94\\xa2\\x86\\xa82>^')\n",
      "bytearray(b'\\x8f+b\\xa3 *K\\t')\n",
      "bytearray(b'\\x03\\xf4\\x9c\\xbbl\\x84\\xb7\\xd8')\n",
      "bytearray(b'&\\x8b1!_z=\\x0c')\n",
      "bytearray(b'\\xd4^\\xa6]\\xd4XqT')\n",
      "bytearray(b'\\xd2\\xdc\\xf0\\xb2\\x8apTt')\n",
      "bytearray(b'mP}kN\\xc7y\\x8b')\n",
      "bytearray(b'\\xba!\\x0ff\\xe9)}\\x15')\n",
      "bytearray(b'\\xe3i\\x93\\xb7\\xe3\\xcb\\xf5c')\n",
      "bytearray(b'v\\xf9=\\xa2\\xf8\\x02*\\xaf')\n",
      "bytearray(b'U \\xb5\\x1c\\xf5Y\\xc7\\x16')\n",
      "bytearray(b'\\x98\\xc1\\xfc\\xa1;\\x15\\xcc\\xc0')\n",
      "17669556053884141453\n",
      "14606475848810506431\n",
      "12359557112994876186\n",
      "7926054094073026690\n",
      "939134263477104903\n",
      "6563545582720848107\n",
      "5547223178290317012\n",
      "2031148602595373487\n",
      "12171027415933439991\n",
      "5087118421254012322\n",
      "13840575167108644362\n",
      "5693331260019063593\n",
      "5323523188923078845\n",
      "6927776698398523495\n",
      "14972748237791087257\n",
      "3612662077049407072\n",
      "16619839519441710418\n",
      "8742518556119888880\n",
      "17742557446857991929\n",
      "16979870632539622441\n",
      "13605341965397519621\n",
      "4006911000313759668\n",
      "9165979499430815283\n",
      "35718392567683530\n",
      "5501633377177326437\n",
      "bytearray(b'\\x8d\\xff\\x9d\\x1a\\x9d\\xdf6\\xf5')\n",
      "bytearray(b'\\xbf(\\xacde\\xa0\\xb4\\xca')\n",
      "bytearray(b'\\x1aK6\\xe5\\xb5\\xf7\\x85\\xab')\n",
      "bytearray(b'\\x82\\xd8\\xc0[4\\x00\\xffm')\n",
      "bytearray(b'\\x07q\\xf3\\n\\xa3y\\x08\\r')\n",
      "bytearray(b'\\xeb\\x10)\\xad\\xeee\\x16[')\n",
      "bytearray(b'\\xd4\\xc6\\xce\\x17\\x17\\xb2\\xfbL')\n",
      "bytearray(b'\\xafq\\xba\\x7f\\xe4\\x160\\x1c')\n",
      "bytearray(b'\\xf7\\xcf@.\\xf3,\\xe8\\xa8')\n",
      "bytearray(b'\\xa2\\xfd0]@\\x13\\x99F')\n",
      "bytearray(b'\\n~\\x9a\\xb2\\xc8\\x99\\x13\\xc0')\n",
      "bytearray(b');\\x10\\xce\\x9d\\xc6\\x02O')\n",
      "bytearray(b'\\xbd\\x98P\\x95\"\\xf4\\xe0I')\n",
      "bytearray(b'g\\xc0E\\xc73h$`')\n",
      "bytearray(b'\\x99\\xca\\xe4x1\\xe3\\xc9\\xcf')\n",
      "bytearray(b'`\\x06\\x0e\\xb4\\x04\\xc1\"2')\n",
      "bytearray(b'RmR\\xbc\\xfc\\x87\\xa5\\xe6')\n",
      "bytearray(b'\\xf0s\\xc9\\x93N\\xaaSy')\n",
      "bytearray(b'\\xf9\\xa6\\xeej\\xfe9:\\xf6')\n",
      "bytearray(b')\\x8c\\x9c\\x88`\\x9e\\xa4\\xeb')\n",
      "bytearray(b'\\x05\\xed;\\xefn\\xe2\\xcf\\xbc')\n",
      "bytearray(b'\\xb4\\x87NDSh\\x9b7')\n",
      "bytearray(b'3&\\x16\\x92\\xca\\x194\\x7f')\n",
      "bytearray(b'\\xca\\xd9\\xf1T\\xb0\\xe5~\\x00')\n",
      "bytearray(b'eS\\x16[h\\xbaYL')\n",
      "1016435106266883418\n",
      "5014685781226644181\n",
      "5299713636549091605\n",
      "2089638478209243710\n",
      "1191750207586976431\n",
      "14776632195062955899\n",
      "13651892330943547086\n",
      "1060944943213938382\n",
      "7368647359293936902\n",
      "4813570343259716973\n",
      "6168578123771168572\n",
      "4192165028168874514\n",
      "5576009653535720801\n",
      "4375929482125523613\n",
      "13194818303370941197\n",
      "14046033969598049155\n",
      "12596666701849091982\n",
      "18398547002248339824\n",
      "2675201966723952160\n",
      "6280764084442242668\n",
      "8262126964842618867\n",
      "16395457583777387338\n",
      "7487633092484249744\n",
      "15363675761588148051\n",
      "7896206854697190808\n"
     ]
    }
   ],
   "source": [
    "b = SHAKE128(Kyber512._xof_input_bytes, Kyber512._xof_length).hex()"
   ]
  },
  {
   "cell_type": "code",
   "execution_count": 13,
   "metadata": {},
   "outputs": [],
   "source": [
    "aList = [[885738389246962277, 0, 0, 0, 9223372036854775808], [1554946951491850079, 0, 0, 0, 0], [10097308149613174153, 0, 0, 0, 0], [2466201460356326228, 0, 0, 0, 0], [2031873, 0, 0, 0, 0]]\n"
   ]
  },
  {
   "cell_type": "code",
   "execution_count": 14,
   "metadata": {},
   "outputs": [
    {
     "data": {
      "text/plain": [
       "[885738389246962277,\n",
       " 0,\n",
       " 0,\n",
       " 0,\n",
       " 9223372036854775808,\n",
       " 1554946951491850079,\n",
       " 0,\n",
       " 0,\n",
       " 0,\n",
       " 0,\n",
       " 10097308149613174153,\n",
       " 0,\n",
       " 0,\n",
       " 0,\n",
       " 0,\n",
       " 2466201460356326228,\n",
       " 0,\n",
       " 0,\n",
       " 0,\n",
       " 0,\n",
       " 2031873,\n",
       " 0,\n",
       " 0,\n",
       " 0,\n",
       " 0]"
      ]
     },
     "execution_count": 14,
     "metadata": {},
     "output_type": "execute_result"
    }
   ],
   "source": [
    "import itertools\n",
    "bList = list(itertools.chain(*aList))\n",
    "len(bin(max(bList)).replace('0b',''))\n",
    "bList"
   ]
  },
  {
   "cell_type": "code",
   "execution_count": 15,
   "metadata": {},
   "outputs": [
    {
     "data": {
      "text/plain": [
       "True"
      ]
     },
     "execution_count": 15,
     "metadata": {},
     "output_type": "execute_result"
    }
   ],
   "source": [
    "a == b"
   ]
  },
  {
   "cell_type": "code",
   "execution_count": 16,
   "metadata": {},
   "outputs": [
    {
     "data": {
      "text/plain": [
       "'85d62974496e87c185a83a7b25587a85fd15a099bf294b5a5f8cf0d44749e292f598c3f2b036aad7057866341b19c98cc2f5f29cf8faab2ab005c421838e3af73de6f2f3af1bb5cd1337fbb339e9e99734062326226b9e27533995f690092bc65bece926bc7376bb2c82931a530c3d89b595bf3aefb95e4aa8b4e966a4497a4ccda4cf11c9b634d2eff83c20664a9e04347039fa9271f856f58673be6cb53d035ca8ae368fe6cb9367e2ab8cf1787b884c2805830ab35c4c5cb83440dde77f18675b70e59d8e3b4c2192d636e3e80d0464da8e0b94c70291590cccbd202fac317d847636cefc065547800949a2b426352ab4e3ce5f879fcfe0cdc5e7beb0aabe769e24e18ac02b55ffdcfb28aa5093665d0cb2ff378659b72b8e23f03a5e87a02f027ce8f32568635cf6ce8c79cef2efa50fd67eeb64789ad6f302eeefd16a15fad69b691beb6b4eb4e2c7546ce46c7c904cf17df8c0cd57e99c32579adb4ebf710a9d7c2468127003f49cbb6c84b7d8ba210f66e9297d156faf7abec5f79e3811f463040c14b79549489a4fb50b8127268b31215f7a3d0ce36993b7e3cbf563839f4dfd39b7fa85834e90a3fe17d446f957392dd73ffcbdd45ea65dd458715476f93da2f8022aaf524d210d4dc8cd14150d58bdcd02e8514794a286a8323e5ed2dcf0b28a7054745520b51cf559c71655d068359d99ffed8dff9d1a9ddf36f5eb1029adee65165b0a7e9ab2c89913c060060eb404c1223205ed3bef6ee2cfbcbf28ac6465a0b4cad4c6ce1717b2fb4c293b10ce9dc6024f526d52bcfc87a5e6b4874e4453689b371a4b36e5b5f785abaf71ba7fe416301cbd98509522f4e049f073c9934eaa537933261692ca19347f82d8c05b3400ff6df7cf402ef32ce8a867c045c733682460f9a6ee6afe393af6cad9f154b0e57e000771f30aa379080d5a254606581a1b0e7bff5303b12411cd3c47a0fc1e319b55832bf6ec7989edc2f3df9e2cb3f8a872d562372a26be9745ce06c581be4375bd123ad2cfe18f2d3a8edfb415a059d0ae4a13093bce5d88e31561cd2d795d8c49ce868302ce3bb90e'"
      ]
     },
     "execution_count": 16,
     "metadata": {},
     "output_type": "execute_result"
    }
   ],
   "source": [
    "a"
   ]
  },
  {
   "cell_type": "code",
   "execution_count": 17,
   "metadata": {},
   "outputs": [],
   "source": [
    "a = sha3_256(Kyber512._xof_input_bytes).digest().hex()"
   ]
  },
  {
   "cell_type": "code",
   "execution_count": 18,
   "metadata": {},
   "outputs": [
    {
     "name": "stdout",
     "output_type": "stream",
     "text": [
      "bytearray(b'e\\xea\\xfdF_\\xc6J\\x0c')\n",
      "bytearray(b'\\x00\\x00\\x00\\x00\\x00\\x00\\x00\\x00')\n",
      "bytearray(b'\\x00\\x00\\x00\\x00\\x00\\x00\\x00\\x00')\n",
      "bytearray(b'\\x00\\x00\\x00\\x00\\x00\\x00\\x00\\x00')\n",
      "bytearray(b'\\x00\\x00\\x00\\x00\\x00\\x00\\x00\\x00')\n",
      "bytearray(b'_\\x8f?\\x90\\x03H\\x94\\x15')\n",
      "bytearray(b'\\x00\\x00\\x00\\x00\\x00\\x00\\x00\\x00')\n",
      "bytearray(b'\\x00\\x00\\x00\\x00\\x00\\x00\\x00\\x00')\n",
      "bytearray(b'\\x00\\x00\\x00\\x00\\x00\\x00\\x00\\x80')\n",
      "bytearray(b'\\x00\\x00\\x00\\x00\\x00\\x00\\x00\\x00')\n",
      "bytearray(b'\\x89\\x9dY\\xa5C\\xd8 \\x8c')\n",
      "bytearray(b'\\x00\\x00\\x00\\x00\\x00\\x00\\x00\\x00')\n",
      "bytearray(b'\\x00\\x00\\x00\\x00\\x00\\x00\\x00\\x00')\n",
      "bytearray(b'\\x00\\x00\\x00\\x00\\x00\\x00\\x00\\x00')\n",
      "bytearray(b'\\x00\\x00\\x00\\x00\\x00\\x00\\x00\\x00')\n",
      "bytearray(b'T\\xa3\\x16e)\\xb59\"')\n",
      "bytearray(b'\\x00\\x00\\x00\\x00\\x00\\x00\\x00\\x00')\n",
      "bytearray(b'\\x00\\x00\\x00\\x00\\x00\\x00\\x00\\x00')\n",
      "bytearray(b'\\x00\\x00\\x00\\x00\\x00\\x00\\x00\\x00')\n",
      "bytearray(b'\\x00\\x00\\x00\\x00\\x00\\x00\\x00\\x00')\n",
      "bytearray(b'\\x01\\x01\\x06\\x00\\x00\\x00\\x00\\x00')\n",
      "bytearray(b'\\x00\\x00\\x00\\x00\\x00\\x00\\x00\\x00')\n",
      "bytearray(b'\\x00\\x00\\x00\\x00\\x00\\x00\\x00\\x00')\n",
      "bytearray(b'\\x00\\x00\\x00\\x00\\x00\\x00\\x00\\x00')\n",
      "bytearray(b'\\x00\\x00\\x00\\x00\\x00\\x00\\x00\\x00')\n",
      "17723320065212179744\n",
      "5332688556074578821\n",
      "15592808027434457827\n",
      "8187770676326191426\n",
      "11531033938493744927\n",
      "4103508557802861860\n",
      "16257386486144937476\n",
      "3571200004506186818\n",
      "15550595238011099980\n",
      "14966403522319053051\n",
      "11442928574098599557\n",
      "17966823451807277309\n",
      "4023420187273794727\n",
      "2322215759383844587\n",
      "12097186224909048303\n",
      "12347518320457431122\n",
      "14438159757960413042\n",
      "7564836948105265316\n",
      "8380985400518907971\n",
      "8670837004979960176\n",
      "7610622535687215317\n",
      "456355236016377304\n",
      "16956488834961697681\n",
      "12290601642903917994\n",
      "3228065385965054932\n"
     ]
    }
   ],
   "source": [
    "b = SHA3_256(Kyber512._xof_input_bytes).hex()"
   ]
  },
  {
   "cell_type": "code",
   "execution_count": 19,
   "metadata": {},
   "outputs": [
    {
     "data": {
      "text/plain": [
       "True"
      ]
     },
     "execution_count": 19,
     "metadata": {},
     "output_type": "execute_result"
    }
   ],
   "source": [
    "a == b"
   ]
  },
  {
   "cell_type": "code",
   "execution_count": 20,
   "metadata": {},
   "outputs": [
    {
     "data": {
      "text/plain": [
       "'20658677b2e1f5f524759dc04a97f238856e5031e972cd9e52387e147e325bab'"
      ]
     },
     "execution_count": 20,
     "metadata": {},
     "output_type": "execute_result"
    }
   ],
   "source": [
    "a"
   ]
  },
  {
   "cell_type": "code",
   "execution_count": 21,
   "metadata": {},
   "outputs": [
    {
     "data": {
      "text/plain": [
       "'20658677b2e1f5f524759dc04a97f238856e5031e972cd9e52387e147e325bab'"
      ]
     },
     "execution_count": 21,
     "metadata": {},
     "output_type": "execute_result"
    }
   ],
   "source": [
    "b"
   ]
  },
  {
   "cell_type": "code",
   "execution_count": 22,
   "metadata": {},
   "outputs": [
    {
     "data": {
      "text/plain": [
       "bytearray(b'\\x00\\x00')"
      ]
     },
     "execution_count": 22,
     "metadata": {},
     "output_type": "execute_result"
    }
   ],
   "source": [
    "state = bytearray([0 for i in range(2)])\n",
    "state"
   ]
  },
  {
   "cell_type": "code",
   "execution_count": 23,
   "metadata": {},
   "outputs": [
    {
     "name": "stdout",
     "output_type": "stream",
     "text": [
      "0\n",
      "1\n",
      "2\n",
      "3\n",
      "4\n"
     ]
    }
   ],
   "source": [
    "for a in range(5):\n",
    "    print(a)"
   ]
  },
  {
   "cell_type": "code",
   "execution_count": null,
   "metadata": {},
   "outputs": [],
   "source": []
  }
 ],
 "metadata": {
  "kernelspec": {
   "display_name": "kyber",
   "language": "python",
   "name": "python3"
  },
  "language_info": {
   "codemirror_mode": {
    "name": "ipython",
    "version": 3
   },
   "file_extension": ".py",
   "mimetype": "text/x-python",
   "name": "python",
   "nbconvert_exporter": "python",
   "pygments_lexer": "ipython3",
   "version": "3.12.3"
  }
 },
 "nbformat": 4,
 "nbformat_minor": 2
}
