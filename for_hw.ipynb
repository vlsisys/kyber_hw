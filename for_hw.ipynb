{
 "cells": [
  {
   "cell_type": "code",
   "execution_count": 1,
   "metadata": {},
   "outputs": [],
   "source": [
    "from CompactFIPS202 import *\n",
    "import binascii\n",
    "import os\n",
    "from hashlib import sha3_256, sha3_512, shake_128, shake_256\n",
    "from kyber import Kyber512, Kyber768, Kyber1024\n",
    "from aes256_ctr_drbg import AES256_CTR_DRBG\n",
    "import itertools\n",
    "\n",
    "os.system('rm -rf ./vec')\n",
    "\n",
    "def parse_kat_data(data):\n",
    "    parsed_data = {}\n",
    "    count_blocks = data.split('\\n\\n')\n",
    "    for block in count_blocks[1:-1]:\n",
    "        block_data = block.split('\\n')\n",
    "        count, seed, pk, sk, ct, ss = [line.split(\" = \")[-1] for line in block_data]\n",
    "        parsed_data[count] = {\n",
    "            \"seed\": bytes.fromhex(seed),\n",
    "            \"pk\": bytes.fromhex(pk),\n",
    "            \"sk\": bytes.fromhex(sk),\n",
    "            \"ct\": bytes.fromhex(ct),\n",
    "            \"ss\": bytes.fromhex(ss),   \n",
    "        }\n",
    "    return parsed_data"
   ]
  },
  {
   "cell_type": "code",
   "execution_count": 2,
   "metadata": {},
   "outputs": [],
   "source": [
    "with open(\"assets/PQCkemKAT_1632.rsp\") as f:\n",
    "    kat_data = f.read()\n",
    "    parsed_data = parse_kat_data(kat_data)\n",
    "\n",
    "data = parsed_data['0']\n",
    "seed, pk, sk, ct, ss = data.values()\n",
    "        \n",
    "# Seed DRBG with KAT seed\n",
    "Kyber512.set_drbg_seed(seed)\n",
    "# Assert keygen matches\n",
    "_pk, _sk = Kyber512.keygen()\n",
    "\n",
    "# Assert encapsulation matches\n",
    "_ct, _ss = Kyber512.enc(_pk)\n",
    "\n",
    "#    # Assert decapsulation matches\n",
    "#    __ss = Kyber512.dec(ct, sk)"
   ]
  },
  {
   "cell_type": "code",
   "execution_count": 3,
   "metadata": {},
   "outputs": [
    {
     "data": {
      "text/plain": [
       "'061550234d158c5ec95595fe04ef7a25767f2e24cc2bc479d09d86dc9abcfde7056a8c266f9ef97ed08541dbd2e1ffa1'"
      ]
     },
     "execution_count": 3,
     "metadata": {},
     "output_type": "execute_result"
    }
   ],
   "source": [
    "seed.hex()"
   ]
  },
  {
   "cell_type": "code",
   "execution_count": 4,
   "metadata": {},
   "outputs": [
    {
     "data": {
      "text/plain": [
       "True"
      ]
     },
     "execution_count": 4,
     "metadata": {},
     "output_type": "execute_result"
    }
   ],
   "source": [
    "pk == _pk"
   ]
  },
  {
   "cell_type": "code",
   "execution_count": 5,
   "metadata": {},
   "outputs": [
    {
     "data": {
      "text/plain": [
       "True"
      ]
     },
     "execution_count": 5,
     "metadata": {},
     "output_type": "execute_result"
    }
   ],
   "source": [
    "(pk == _pk) == (sk == _sk) == (ct == _ct) == (ss == _ss)"
   ]
  },
  {
   "cell_type": "code",
   "execution_count": 6,
   "metadata": {},
   "outputs": [],
   "source": [
    "random_bytes = os.urandom"
   ]
  },
  {
   "cell_type": "code",
   "execution_count": 7,
   "metadata": {},
   "outputs": [],
   "source": [
    "a = random_bytes(32)"
   ]
  },
  {
   "cell_type": "code",
   "execution_count": 8,
   "metadata": {},
   "outputs": [
    {
     "data": {
      "text/plain": [
       "1"
      ]
     },
     "execution_count": 8,
     "metadata": {},
     "output_type": "execute_result"
    }
   ],
   "source": [
    "len(Kyber512._xof_a)"
   ]
  },
  {
   "cell_type": "code",
   "execution_count": 9,
   "metadata": {},
   "outputs": [
    {
     "data": {
      "text/plain": [
       "68"
      ]
     },
     "execution_count": 9,
     "metadata": {},
     "output_type": "execute_result"
    }
   ],
   "source": [
    "len(Kyber512._xof_input_bytes.hex())"
   ]
  },
  {
   "cell_type": "code",
   "execution_count": 10,
   "metadata": {},
   "outputs": [
    {
     "data": {
      "text/plain": [
       "'01'"
      ]
     },
     "execution_count": 10,
     "metadata": {},
     "output_type": "execute_result"
    }
   ],
   "source": [
    "Kyber512._xof_a.hex()"
   ]
  },
  {
   "cell_type": "markdown",
   "metadata": {},
   "source": []
  },
  {
   "cell_type": "code",
   "execution_count": 11,
   "metadata": {},
   "outputs": [],
   "source": [
    "a = shake_128(Kyber512._xof_input_bytes).digest(Kyber512._xof_length).hex()"
   ]
  },
  {
   "cell_type": "code",
   "execution_count": 12,
   "metadata": {},
   "outputs": [
    {
     "name": "stdout",
     "output_type": "stream",
     "text": [
      "65eafd465fc64a0c5f8f3f9003489415899d59a543d8208c54a3166529b5392201011f000000000000000000000000000000000000000000000000000000000000000000000000000000000000000000000000000000000000000000000000000000000000000000000000000000000000000000000000000000000000000000000000000000000000000000000000000000000000000000000000000000000000000000000000800000000000000000000000000000000000000000000000000000000000000000\n",
      "[[885738389246962277, 0, 0, 0, 9223372036854775808], [1554946951491850079, 0, 0, 0, 0], [10097308149613174153, 0, 0, 0, 0], [2466201460356326228, 0, 0, 0, 0], [2031873, 0, 0, 0, 0]]\n",
      "85d62974496e87c185a83a7b25587a85fd15a099bf294b5a5f8cf0d44749e292f598c3f2b036aad7057866341b19c98cc2f5f29cf8faab2ab005c421838e3af73de6f2f3af1bb5cd1337fbb339e9e99734062326226b9e27533995f690092bc65bece926bc7376bb2c82931a530c3d89b595bf3aefb95e4aa8b4e966a4497a4ccda4cf11c9b634d2eff83c20664a9e04347039fa9271f856f58673be6cb53d035ca8ae368fe6cb93d569f56b6dd97afcbcb7d3a52deafd505c5cd70583798979a4689e010f583a51\n",
      "[[13945236032936597125, 10144667240262694917, 2854837008212362804, 5510798064491279528, 10649859246619797596], [9618096872207591557, 3074827116302497218, 14279517561725204819, 15146932421457323213, 18193092708702448085], [6506339989559711229, 17814707969875772848, 13508111384288291931, 332785224959981807, 5836078173918574524], [10584102647138126943, 14822784191085864509, 9889073907843170860, 6266883757563277364, 8757664554044316764], [15540293597810366709, 10946536803342694163, 5358925043751425461, 233542234349471477, 5853087487196293284]]\n",
      "67e2ab8cf1787b884c2805830ab35c4c5cb83440dde77f18675b70e59d8e3b4c2192d636e3e80d0464da8e0b94c70291590cccbd202fac317d847636cefc065547800949a2b426352ab4e3ce5f879fcfe0cdc5e7beb0aabe769e24e18ac02b55ffdcfb28aa5093665d0cb2ff378659b72b8e23f03a5e87a02f027ce8f32568635cf6ce8c79cef2efa50fd67eeb64789ad6f302eeefd16a15fad69b691beb6b4eb4e2c7546ce46c7c7d8d43c6c6e216400a3ab243b807d889e9491c79917ba6c3ea291d4cfd9fc60a\n",
      "[[9834587190136136295, 10449133524115970660, 13738987947225894368, 7163016936840495663, 8965792112117801652], [5502469702469101644, 3579287621522426969, 6137210619937726070, 17290108940877493852, 4618127811272740221], [1765384516403509340, 6126862305691337853, 7391340105207373055, 11130757441654230949, 9932697466156759562], [5493140979318807399, 3829947142228246599, 13211738556939242589, 1543276650748376022, 14098091548262287849], [292145613424202273, 14960825332710749226, 11567317775154384427, 5650868660434884346, 776483896020511210]]\n",
      "904cf17df8c0cd57e99c32579adb4ebf710a9d7c2468127003f49cbb6c84b7d8ba210f66e9297d156faf7abec5f79e3811f463040c14b79549489a4fb50b8127268b31215f7a3d0ce36993b7e3cbf563839f4dfd39b7fa85834e90a3fe17d446f957392dd73ffcbdd45ea65dd458715476f93da2f8022aaf524d210d4dc8cd14150d58bdcd02e8514794a286a8323e5ed2dcf0b28a7054745520b51cf559c71655d068359d99ffedb79c0f607f114e7d8f2b62a3202a4b096d507d6b4ec7798b98c1fca13b15ccc0\n",
      "[[6326925225022803088, 4079970741120577391, 9654230210912821123, 1499074484242566482, 17149594806535114837], [13785196965362048233, 10788113474235134993, 5103730660150890115, 5901970394337250581, 9029173541694577847], [8075631587747498609, 2846569312827361353, 13689887160708716537, 6790920987515982919, 669675289263090575], [15616095835469444099, 881995651031862054, 6084742240681746132, 8382448547453263058, 10050283183078723693], [1548439929301705146, 7202887357946882531, 12621904172556351862, 1641379498483327061, 13892502296396087704]]\n",
      "8dff9d1a9ddf36f5eb1029adee65165b0a7e9ab2c89913c060060eb404c1223205ed3bef6ee2cfbcbf28ac6465a0b4cad4c6ce1717b2fb4c293b10ce9dc6024f526d52bcfc87a5e6b4874e4453689b371a4b36e5b5f785abaf71ba7fe416301cbd98509522f4e049f073c9934eaa537933261692ca19347f82d8c05b3400ff6df7cf402ef32ce8a867c045c733682460f9a6ee6afe393af6cad9f154b0e57e000771f30aa379080da2fd305d4013994699cae47831e3c9cf298c9c88609ea4eb6553165b68ba594c\n",
      "[[17669556053884141453, 14606475848810506431, 12359557112994876186, 7926054094073026690, 939134263477104903], [6563545582720848107, 5547223178290317012, 2031148602595373487, 12171027415933439991, 5087118421254012322], [13840575167108644362, 5693331260019063593, 5323523188923078845, 6927776698398523495, 14972748237791087257], [3612662077049407072, 16619839519441710418, 8742518556119888880, 17742557446857991929, 16979870632539622441], [13605341965397519621, 4006911000313759668, 9165979499430815283, 35718392567683530, 5501633377177326437]]\n"
     ]
    }
   ],
   "source": [
    "b = SHAKE128(Kyber512._xof_input_bytes, Kyber512._xof_length).hex()"
   ]
  },
  {
   "cell_type": "code",
   "execution_count": null,
   "metadata": {},
   "outputs": [],
   "source": []
  },
  {
   "cell_type": "code",
   "execution_count": 13,
   "metadata": {},
   "outputs": [
    {
     "data": {
      "text/plain": [
       "'0c4ac65f46fdea65 0000000000000000 0000000000000000 0000000000000000 8000000000000000 15944803903f8f5f 0000000000000000 0000000000000000 0000000000000000 0000000000000000 8c20d843a5599d89 0000000000000000 0000000000000000 0000000000000000 0000000000000000 2239b5296516a354 0000000000000000 0000000000000000 0000000000000000 0000000000000000 00000000001f0101 0000000000000000 0000000000000000 0000000000000000 0000000000000000'"
      ]
     },
     "execution_count": 13,
     "metadata": {},
     "output_type": "execute_result"
    }
   ],
   "source": [
    "lanes = [[885738389246962277, 0, 0, 0, 9223372036854775808], [1554946951491850079, 0, 0, 0, 0], [10097308149613174153, 0, 0, 0, 0], [2466201460356326228, 0, 0, 0, 0], [2031873, 0, 0, 0, 0]]\n",
    "testList = list(itertools.chain(*lanes))\n",
    "int(''.join(hex(x).replace('0x', '').rjust(16, '0') for x in testList), 16)\n",
    "' '.join(hex(x).replace('0x', '').rjust(16, '0') for x in testList)"
   ]
  },
  {
   "cell_type": "code",
   "execution_count": 14,
   "metadata": {},
   "outputs": [
    {
     "data": {
      "text/plain": [
       "'0x15944803903f8f5f'"
      ]
     },
     "execution_count": 14,
     "metadata": {},
     "output_type": "execute_result"
    }
   ],
   "source": [
    "hex(1554946951491850079)"
   ]
  },
  {
   "cell_type": "code",
   "execution_count": 15,
   "metadata": {},
   "outputs": [
    {
     "ename": "NameError",
     "evalue": "name 'aList' is not defined",
     "output_type": "error",
     "traceback": [
      "\u001b[31m---------------------------------------------------------------------------\u001b[39m",
      "\u001b[31mNameError\u001b[39m                                 Traceback (most recent call last)",
      "\u001b[36mCell\u001b[39m\u001b[36m \u001b[39m\u001b[32mIn[15]\u001b[39m\u001b[32m, line 2\u001b[39m\n\u001b[32m      1\u001b[39m \u001b[38;5;28;01mimport\u001b[39;00m\u001b[38;5;250m \u001b[39m\u001b[34;01mitertools\u001b[39;00m\n\u001b[32m----> \u001b[39m\u001b[32m2\u001b[39m bList = \u001b[38;5;28mlist\u001b[39m(itertools.chain(*\u001b[43maList\u001b[49m))\n\u001b[32m      3\u001b[39m \u001b[38;5;28mlen\u001b[39m(\u001b[38;5;28mbin\u001b[39m(\u001b[38;5;28mmax\u001b[39m(bList)).replace(\u001b[33m'\u001b[39m\u001b[33m0b\u001b[39m\u001b[33m'\u001b[39m,\u001b[33m'\u001b[39m\u001b[33m'\u001b[39m))\n\u001b[32m      4\u001b[39m bList\n",
      "\u001b[31mNameError\u001b[39m: name 'aList' is not defined"
     ]
    }
   ],
   "source": [
    "import itertools\n",
    "bList = list(itertools.chain(*aList))\n",
    "len(bin(max(bList)).replace('0b',''))\n",
    "bList"
   ]
  },
  {
   "cell_type": "code",
   "execution_count": null,
   "metadata": {},
   "outputs": [
    {
     "data": {
      "text/plain": [
       "[0, 2, 4, 6, 8, 1, 3, 5, 7, 9, 2, 4, 6, 8, 10, 3, 5, 7, 9, 11, 4, 6, 8, 10, 12]"
      ]
     },
     "execution_count": 16,
     "metadata": {},
     "output_type": "execute_result"
    }
   ],
   "source": [
    "list(itertools.chain(*aList))"
   ]
  },
  {
   "cell_type": "code",
   "execution_count": null,
   "metadata": {},
   "outputs": [
    {
     "data": {
      "text/plain": [
       "3748722386525724199"
      ]
     },
     "execution_count": 17,
     "metadata": {},
     "output_type": "execute_result"
    }
   ],
   "source": [
    "my_list = [52, 6, 35, 38, 34, 107, 158, 39]\n",
    "int(''.join(hex(x).replace('0x', '').rjust(2, '0') for x in my_list), 16)"
   ]
  },
  {
   "cell_type": "code",
   "execution_count": null,
   "metadata": {},
   "outputs": [
    {
     "data": {
      "text/plain": [
       "'06'"
      ]
     },
     "execution_count": 18,
     "metadata": {},
     "output_type": "execute_result"
    }
   ],
   "source": [
    "hex(6).replace('0x','').rjust(2, '0')"
   ]
  },
  {
   "cell_type": "code",
   "execution_count": null,
   "metadata": {},
   "outputs": [],
   "source": [
    "a = sha3_256(Kyber512._xof_input_bytes).digest().hex()"
   ]
  },
  {
   "cell_type": "code",
   "execution_count": null,
   "metadata": {},
   "outputs": [
    {
     "name": "stdout",
     "output_type": "stream",
     "text": [
      "[[885738389246962277, 0, 0, 0, 0], [1554946951491850079, 0, 0, 9223372036854775808, 0], [10097308149613174153, 0, 0, 0, 0], [2466201460356326228, 0, 0, 0, 0], [393473, 0, 0, 0, 0]]\n",
      "[885738389246962277, 0, 0, 0, 0, 1554946951491850079, 0, 0, 9223372036854775808, 0, 10097308149613174153, 0, 0, 0, 0, 2466201460356326228, 0, 0, 0, 0, 393473, 0, 0, 0, 0]\n",
      "i_lanes    2134906246602971880459266587322616424706985951849197740621410844426700741526485829584271464329993768803774944423309126898872098029184518893742725725156639257899644015659380406461031490584223881456433713297514571568703787525101935623719152415710422792662251146072900304331266916841749748154998617213979975695029180750522529167523685231847006478635445349766873741561949142827904951428629245722387175810977797683055604752365161268468990133436928572288701697179034952337420556999589888\n",
      "o_lanes    42718738599479802522101780583034915584006342608463054032051819051673015842615026881754971032173156024740522586719221049493267572034042848925185879869966353185667044202894650112089330407411693101825086381648212807688782951124428671438935337886807548668879986551908086284519274115718820800203265113005654698888751403055447903296655109933109703134237999832296552132220294012299213918056592423809675112192381882807013984090085325491521942780192741864466160771896260846577456317455035348\n"
     ]
    }
   ],
   "source": [
    "b = SHA3_256(Kyber512._xof_input_bytes).hex()"
   ]
  },
  {
   "cell_type": "code",
   "execution_count": null,
   "metadata": {},
   "outputs": [
    {
     "data": {
      "text/plain": [
       "True"
      ]
     },
     "execution_count": 21,
     "metadata": {},
     "output_type": "execute_result"
    }
   ],
   "source": [
    "a == b"
   ]
  },
  {
   "cell_type": "code",
   "execution_count": null,
   "metadata": {},
   "outputs": [
    {
     "data": {
      "text/plain": [
       "'20658677b2e1f5f524759dc04a97f238856e5031e972cd9e52387e147e325bab'"
      ]
     },
     "execution_count": 22,
     "metadata": {},
     "output_type": "execute_result"
    }
   ],
   "source": [
    "a"
   ]
  },
  {
   "cell_type": "code",
   "execution_count": null,
   "metadata": {},
   "outputs": [
    {
     "data": {
      "text/plain": [
       "'20658677b2e1f5f524759dc04a97f238856e5031e972cd9e52387e147e325bab'"
      ]
     },
     "execution_count": 23,
     "metadata": {},
     "output_type": "execute_result"
    }
   ],
   "source": [
    "b"
   ]
  },
  {
   "cell_type": "code",
   "execution_count": null,
   "metadata": {},
   "outputs": [
    {
     "data": {
      "text/plain": [
       "bytearray(b'\\x00\\x00')"
      ]
     },
     "execution_count": 24,
     "metadata": {},
     "output_type": "execute_result"
    }
   ],
   "source": [
    "state = bytearray([0 for i in range(2)])\n",
    "state"
   ]
  },
  {
   "cell_type": "code",
   "execution_count": null,
   "metadata": {},
   "outputs": [
    {
     "name": "stdout",
     "output_type": "stream",
     "text": [
      "0\n",
      "1\n",
      "2\n",
      "3\n",
      "4\n"
     ]
    }
   ],
   "source": [
    "for a in range(5):\n",
    "    print(a)"
   ]
  },
  {
   "cell_type": "code",
   "execution_count": null,
   "metadata": {},
   "outputs": [],
   "source": []
  }
 ],
 "metadata": {
  "kernelspec": {
   "display_name": "kyber",
   "language": "python",
   "name": "python3"
  },
  "language_info": {
   "codemirror_mode": {
    "name": "ipython",
    "version": 3
   },
   "file_extension": ".py",
   "mimetype": "text/x-python",
   "name": "python",
   "nbconvert_exporter": "python",
   "pygments_lexer": "ipython3",
   "version": "3.12.3"
  }
 },
 "nbformat": 4,
 "nbformat_minor": 2
}
