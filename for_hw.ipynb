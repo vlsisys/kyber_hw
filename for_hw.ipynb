{
 "cells": [
  {
   "cell_type": "code",
   "execution_count": 38,
   "metadata": {},
   "outputs": [],
   "source": [
    "from CompactFIPS202 import *\n",
    "import binascii\n",
    "import os\n",
    "from hashlib import sha3_256, sha3_512, shake_128, shake_256\n",
    "from kyber import Kyber512, Kyber768, Kyber1024\n",
    "from aes256_ctr_drbg import AES256_CTR_DRBG\n",
    "\n",
    "def parse_kat_data(data):\n",
    "    parsed_data = {}\n",
    "    count_blocks = data.split('\\n\\n')\n",
    "    for block in count_blocks[1:-1]:\n",
    "        block_data = block.split('\\n')\n",
    "        count, seed, pk, sk, ct, ss = [line.split(\" = \")[-1] for line in block_data]\n",
    "        parsed_data[count] = {\n",
    "            \"seed\": bytes.fromhex(seed),\n",
    "            \"pk\": bytes.fromhex(pk),\n",
    "            \"sk\": bytes.fromhex(sk),\n",
    "            \"ct\": bytes.fromhex(ct),\n",
    "            \"ss\": bytes.fromhex(ss),   \n",
    "        }\n",
    "    return parsed_data\n",
    "    \n"
   ]
  },
  {
   "cell_type": "code",
   "execution_count": 39,
   "metadata": {},
   "outputs": [],
   "source": [
    "with open(\"assets/PQCkemKAT_1632.rsp\") as f:\n",
    "    kat_data = f.read()\n",
    "    parsed_data = parse_kat_data(kat_data)\n",
    "\n",
    "data = parsed_data['0']\n",
    "seed, pk, sk, ct, ss = data.values()\n",
    "        \n",
    "# Seed DRBG with KAT seed\n",
    "Kyber512.set_drbg_seed(seed)\n",
    "# Assert keygen matches\n",
    "_pk, _sk = Kyber512.keygen()\n",
    "\n",
    "# Assert encapsulation matches\n",
    "_ct, _ss = Kyber512.enc(_pk)\n",
    "\n",
    "#    # Assert decapsulation matches\n",
    "#    __ss = Kyber512.dec(ct, sk)"
   ]
  },
  {
   "cell_type": "code",
   "execution_count": 40,
   "metadata": {},
   "outputs": [
    {
     "data": {
      "text/plain": [
       "'061550234d158c5ec95595fe04ef7a25767f2e24cc2bc479d09d86dc9abcfde7056a8c266f9ef97ed08541dbd2e1ffa1'"
      ]
     },
     "execution_count": 40,
     "metadata": {},
     "output_type": "execute_result"
    }
   ],
   "source": [
    "seed.hex()"
   ]
  },
  {
   "cell_type": "code",
   "execution_count": 41,
   "metadata": {},
   "outputs": [
    {
     "data": {
      "text/plain": [
       "True"
      ]
     },
     "execution_count": 41,
     "metadata": {},
     "output_type": "execute_result"
    }
   ],
   "source": [
    "pk == _pk"
   ]
  },
  {
   "cell_type": "code",
   "execution_count": 42,
   "metadata": {},
   "outputs": [
    {
     "data": {
      "text/plain": [
       "True"
      ]
     },
     "execution_count": 42,
     "metadata": {},
     "output_type": "execute_result"
    }
   ],
   "source": [
    "(pk == _pk) == (sk == _sk) == (ct == _ct) == (ss == _ss)"
   ]
  },
  {
   "cell_type": "code",
   "execution_count": 43,
   "metadata": {},
   "outputs": [],
   "source": [
    "random_bytes = os.urandom"
   ]
  },
  {
   "cell_type": "code",
   "execution_count": 44,
   "metadata": {},
   "outputs": [],
   "source": [
    "a = random_bytes(32)"
   ]
  },
  {
   "cell_type": "code",
   "execution_count": 45,
   "metadata": {},
   "outputs": [
    {
     "data": {
      "text/plain": [
       "1"
      ]
     },
     "execution_count": 45,
     "metadata": {},
     "output_type": "execute_result"
    }
   ],
   "source": [
    "len(Kyber512._xof_a)"
   ]
  },
  {
   "cell_type": "code",
   "execution_count": 46,
   "metadata": {},
   "outputs": [
    {
     "data": {
      "text/plain": [
       "34"
      ]
     },
     "execution_count": 46,
     "metadata": {},
     "output_type": "execute_result"
    }
   ],
   "source": [
    "len(Kyber512._xof_input_bytes)"
   ]
  },
  {
   "cell_type": "code",
   "execution_count": 47,
   "metadata": {},
   "outputs": [
    {
     "data": {
      "text/plain": [
       "'01'"
      ]
     },
     "execution_count": 47,
     "metadata": {},
     "output_type": "execute_result"
    }
   ],
   "source": [
    "Kyber512._xof_a.hex()"
   ]
  },
  {
   "cell_type": "code",
   "execution_count": 48,
   "metadata": {},
   "outputs": [],
   "source": [
    "a = shake_128(Kyber512._xof_input_bytes).digest(Kyber512._xof_length).hex()"
   ]
  },
  {
   "cell_type": "code",
   "execution_count": 49,
   "metadata": {},
   "outputs": [],
   "source": [
    "b = SHAKE128(Kyber512._xof_input_bytes, Kyber512._xof_length).hex()"
   ]
  },
  {
   "cell_type": "code",
   "execution_count": 50,
   "metadata": {},
   "outputs": [
    {
     "data": {
      "text/plain": [
       "True"
      ]
     },
     "execution_count": 50,
     "metadata": {},
     "output_type": "execute_result"
    }
   ],
   "source": [
    "a == b"
   ]
  },
  {
   "cell_type": "code",
   "execution_count": 51,
   "metadata": {},
   "outputs": [
    {
     "data": {
      "text/plain": [
       "'85d62974496e87c185a83a7b25587a85fd15a099bf294b5a5f8cf0d44749e292f598c3f2b036aad7057866341b19c98cc2f5f29cf8faab2ab005c421838e3af73de6f2f3af1bb5cd1337fbb339e9e99734062326226b9e27533995f690092bc65bece926bc7376bb2c82931a530c3d89b595bf3aefb95e4aa8b4e966a4497a4ccda4cf11c9b634d2eff83c20664a9e04347039fa9271f856f58673be6cb53d035ca8ae368fe6cb9367e2ab8cf1787b884c2805830ab35c4c5cb83440dde77f18675b70e59d8e3b4c2192d636e3e80d0464da8e0b94c70291590cccbd202fac317d847636cefc065547800949a2b426352ab4e3ce5f879fcfe0cdc5e7beb0aabe769e24e18ac02b55ffdcfb28aa5093665d0cb2ff378659b72b8e23f03a5e87a02f027ce8f32568635cf6ce8c79cef2efa50fd67eeb64789ad6f302eeefd16a15fad69b691beb6b4eb4e2c7546ce46c7c904cf17df8c0cd57e99c32579adb4ebf710a9d7c2468127003f49cbb6c84b7d8ba210f66e9297d156faf7abec5f79e3811f463040c14b79549489a4fb50b8127268b31215f7a3d0ce36993b7e3cbf563839f4dfd39b7fa85834e90a3fe17d446f957392dd73ffcbdd45ea65dd458715476f93da2f8022aaf524d210d4dc8cd14150d58bdcd02e8514794a286a8323e5ed2dcf0b28a7054745520b51cf559c71655d068359d99ffed8dff9d1a9ddf36f5eb1029adee65165b0a7e9ab2c89913c060060eb404c1223205ed3bef6ee2cfbcbf28ac6465a0b4cad4c6ce1717b2fb4c293b10ce9dc6024f526d52bcfc87a5e6b4874e4453689b371a4b36e5b5f785abaf71ba7fe416301cbd98509522f4e049f073c9934eaa537933261692ca19347f82d8c05b3400ff6df7cf402ef32ce8a867c045c733682460f9a6ee6afe393af6cad9f154b0e57e000771f30aa379080d5a254606581a1b0e7bff5303b12411cd3c47a0fc1e319b55832bf6ec7989edc2f3df9e2cb3f8a872d562372a26be9745ce06c581be4375bd123ad2cfe18f2d3a8edfb415a059d0ae4a13093bce5d88e31561cd2d795d8c49ce868302ce3bb90e'"
      ]
     },
     "execution_count": 51,
     "metadata": {},
     "output_type": "execute_result"
    }
   ],
   "source": [
    "a"
   ]
  },
  {
   "cell_type": "code",
   "execution_count": 52,
   "metadata": {},
   "outputs": [],
   "source": [
    "a = sha3_256(Kyber512._xof_input_bytes).digest().hex()"
   ]
  },
  {
   "cell_type": "code",
   "execution_count": 53,
   "metadata": {},
   "outputs": [],
   "source": [
    "b = SHA3_256(Kyber512._xof_input_bytes).hex()"
   ]
  },
  {
   "cell_type": "code",
   "execution_count": 54,
   "metadata": {},
   "outputs": [
    {
     "data": {
      "text/plain": [
       "True"
      ]
     },
     "execution_count": 54,
     "metadata": {},
     "output_type": "execute_result"
    }
   ],
   "source": [
    "a == b"
   ]
  },
  {
   "cell_type": "code",
   "execution_count": 55,
   "metadata": {},
   "outputs": [
    {
     "data": {
      "text/plain": [
       "'20658677b2e1f5f524759dc04a97f238856e5031e972cd9e52387e147e325bab'"
      ]
     },
     "execution_count": 55,
     "metadata": {},
     "output_type": "execute_result"
    }
   ],
   "source": [
    "a"
   ]
  },
  {
   "cell_type": "code",
   "execution_count": 56,
   "metadata": {},
   "outputs": [
    {
     "data": {
      "text/plain": [
       "'20658677b2e1f5f524759dc04a97f238856e5031e972cd9e52387e147e325bab'"
      ]
     },
     "execution_count": 56,
     "metadata": {},
     "output_type": "execute_result"
    }
   ],
   "source": [
    "b"
   ]
  },
  {
   "cell_type": "code",
   "execution_count": 60,
   "metadata": {},
   "outputs": [
    {
     "data": {
      "text/plain": [
       "bytearray(b'\\x00\\x00')"
      ]
     },
     "execution_count": 60,
     "metadata": {},
     "output_type": "execute_result"
    }
   ],
   "source": [
    "state = bytearray([0 for i in range(2)])\n",
    "state"
   ]
  },
  {
   "cell_type": "code",
   "execution_count": 66,
   "metadata": {},
   "outputs": [
    {
     "data": {
      "text/plain": [
       "136"
      ]
     },
     "execution_count": 66,
     "metadata": {},
     "output_type": "execute_result"
    }
   ],
   "source": [
    "1089//8"
   ]
  },
  {
   "cell_type": "code",
   "execution_count": null,
   "metadata": {},
   "outputs": [],
   "source": []
  }
 ],
 "metadata": {
  "kernelspec": {
   "display_name": "kyber",
   "language": "python",
   "name": "python3"
  },
  "language_info": {
   "codemirror_mode": {
    "name": "ipython",
    "version": 3
   },
   "file_extension": ".py",
   "mimetype": "text/x-python",
   "name": "python",
   "nbconvert_exporter": "python",
   "pygments_lexer": "ipython3",
   "version": "3.12.3"
  }
 },
 "nbformat": 4,
 "nbformat_minor": 2
}
