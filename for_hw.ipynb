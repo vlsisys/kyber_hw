{
 "cells": [
  {
   "cell_type": "code",
   "execution_count": 1,
   "metadata": {},
   "outputs": [],
   "source": [
    "from CompactFIPS202 import *\n",
    "import binascii\n",
    "import os\n",
    "from hashlib import sha3_256, sha3_512, shake_128, shake_256\n",
    "from kyber import Kyber512, Kyber768, Kyber1024\n",
    "from aes256_ctr_drbg import AES256_CTR_DRBG\n",
    "import itertools\n",
    "import utils\n",
    "from bitstring import Bits\n",
    "\n",
    "os.system('rm -rf ./vec')\n",
    "\n",
    "def parse_kat_data(data):\n",
    "    parsed_data = {}\n",
    "    count_blocks = data.split('\\n\\n')\n",
    "    for block in count_blocks[1:-1]:\n",
    "        block_data = block.split('\\n')\n",
    "        count, seed, pk, sk, ct, ss = [line.split(\" = \")[-1] for line in block_data]\n",
    "        parsed_data[count] = {\n",
    "            \"seed\": bytes.fromhex(seed),\n",
    "            \"pk\": bytes.fromhex(pk),\n",
    "            \"sk\": bytes.fromhex(sk),\n",
    "            \"ct\": bytes.fromhex(ct),\n",
    "            \"ss\": bytes.fromhex(ss),   \n",
    "        }\n",
    "    return parsed_data"
   ]
  },
  {
   "cell_type": "code",
   "execution_count": 2,
   "metadata": {},
   "outputs": [],
   "source": [
    "with open(\"assets/PQCkemKAT_1632.rsp\") as f:\n",
    "    kat_data = f.read()\n",
    "    parsed_data = parse_kat_data(kat_data)\n",
    "\n",
    "data = parsed_data['0']\n",
    "seed, pk, sk, ct, ss = data.values()\n",
    "        \n",
    "# Seed DRBG with KAT seed\n",
    "Kyber512.set_drbg_seed(seed)\n",
    "# Assert keygen matches\n",
    "_pk, _sk = Kyber512.keygen()\n",
    "\n",
    "# Assert encapsulation matches\n",
    "_ct, _ss = Kyber512.enc(_pk)\n",
    "\n",
    "#    # Assert decapsulation matches\n",
    "#    __ss = Kyber512.dec(ct, sk)"
   ]
  },
  {
   "cell_type": "code",
   "execution_count": 3,
   "metadata": {},
   "outputs": [
    {
     "data": {
      "text/plain": [
       "True"
      ]
     },
     "execution_count": 3,
     "metadata": {},
     "output_type": "execute_result"
    }
   ],
   "source": [
    "(pk == _pk) == (sk == _sk) == (ct == _ct) == (ss == _ss)"
   ]
  },
  {
   "cell_type": "code",
   "execution_count": 4,
   "metadata": {},
   "outputs": [
    {
     "data": {
      "text/plain": [
       "b'm\\x98\\xe3\\xa6hz\\x1e\\xa0\\xf8\\xe7\\xe2\\x0b\\x0b\\xc6\\x92t\\xaf\\xd5\\xc5+*\\xb9F\\xbb\\xa8BBR\\x93\\n\\x98y\\x0c\\xb7+}p\\x1a\\x18\\xb7l\\xe2#\\xd2\\xbb\\xa0.\\xbbo\\xca\\xe4\\x82\\xf9\\x00\\x05\\x82/u\\xa6\\xbd\\xa2]F\\xa7\\xa7\\xfd\\xab\\xc0HT\\n\\xafY0\\xd2ViH}h\\x8b\\xa4\\xb5\\x9b\\xa0\\xb4\\xd5\\xe0\\xc0K\\xa9\\xd9WU\\x81F\\x11E\\xe6\\xf6\\x95~\\xb9}\\xbfM0\\xf9\\xe0\\x7f\\xee\\x15=\\xb3i\\xbe\\xe1\\xbc\\xf5/\\x9fA\\xe9)z\\x15\\x1c6'"
      ]
     },
     "execution_count": 4,
     "metadata": {},
     "output_type": "execute_result"
    }
   ],
   "source": [
    "Kyber512.R.cbd_input_bytes"
   ]
  },
  {
   "cell_type": "code",
   "execution_count": 5,
   "metadata": {},
   "outputs": [
    {
     "data": {
      "text/plain": [
       "76961787726721717185743086793776129555753488705600050978100509952925563418804137206042903186472020713167622928246417569670876646104736080018509078121785469511704207335593646502772006212260109437457761327505238322446707092243050096409058848007552273633535859835778791864986071398948929103352012325597778091062"
      ]
     },
     "execution_count": 5,
     "metadata": {},
     "output_type": "execute_result"
    }
   ],
   "source": [
    "int.from_bytes(Kyber512.R.cbd_input_bytes)"
   ]
  },
  {
   "cell_type": "code",
   "execution_count": 6,
   "metadata": {},
   "outputs": [
    {
     "data": {
      "text/plain": [
       "'10110110'"
      ]
     },
     "execution_count": 6,
     "metadata": {},
     "output_type": "execute_result"
    }
   ],
   "source": [
    "format(Kyber512.R.cbd_input_bytes[0], '08b')[::-1]"
   ]
  },
  {
   "cell_type": "code",
   "execution_count": 7,
   "metadata": {},
   "outputs": [
    {
     "data": {
      "text/plain": [
       "'f'"
      ]
     },
     "execution_count": 7,
     "metadata": {},
     "output_type": "execute_result"
    }
   ],
   "source": [
    "a = Bits(int=-1, length=4).hex\n",
    "a"
   ]
  },
  {
   "cell_type": "code",
   "execution_count": 8,
   "metadata": {},
   "outputs": [
    {
     "data": {
      "text/plain": [
       "[-1, 0, -1, 0, 2, -1, 0]"
      ]
     },
     "execution_count": 8,
     "metadata": {},
     "output_type": "execute_result"
    }
   ],
   "source": [
    "Kyber512.R.cbd_coefficients[0:7]"
   ]
  },
  {
   "cell_type": "code",
   "execution_count": 9,
   "metadata": {},
   "outputs": [
    {
     "data": {
      "text/plain": [
       "1379815459959135610830526476087135324366633471742828041500658720353569895110810220672444945926538379163903179333179126586549286914266357358770558081720749945850335746292028301873611507697264927320785394348067908251632314078969732162"
      ]
     },
     "execution_count": 9,
     "metadata": {},
     "output_type": "execute_result"
    }
   ],
   "source": [
    "test = int(''.join(Bits(int=x, length=3).bin for x in Kyber512.R.cbd_coefficients), 2)\n",
    "test"
   ]
  },
  {
   "cell_type": "code",
   "execution_count": 11,
   "metadata": {},
   "outputs": [
    {
     "data": {
      "text/plain": [
       "[                                                                                                                                                                                                             -1 + -1*x^3 + -2*x^4 + x^8 + -1*x^9 + x^10 + -1*x^11 + x^12 + 2*x^14 + -1*x^16 + x^17 + -1*x^18 + x^20 + x^22 + x^23 + x^25 + -1*x^27 + x^29 + -1*x^31 + x^32 + -1*x^34 + -1*x^37 + 2*x^38 + -1*x^39 + -2*x^41 + -1*x^43 + x^44 + 2*x^46 + -2*x^47 + -1*x^49 + -1*x^52 + -1*x^55 + x^56 + -1*x^57 + x^59 + x^60 + -1*x^61 + -1*x^62 + 2*x^63 + -1*x^64 + x^67 + x^71 + x^72 + -2*x^73 + x^74 + x^75 + -1*x^77 + x^78 + -2*x^80 + x^83 + 2*x^84 + 2*x^87 + x^89 + x^90 + x^93 + x^94 + -1*x^96 + -2*x^97 + 2*x^99 + -1*x^100 + -1*x^103 + -1*x^106 + 2*x^107 + -1*x^111 + -1*x^113 + 2*x^117 + x^119 + -2*x^120 + x^124 + x^125 + -1*x^126 + 2*x^130 + -2*x^132 + -2*x^136 + x^138 + 2*x^139 + x^141 + -1*x^142 + -1*x^148 + 2*x^149 + -1*x^151 + x^153 + -2*x^155 + x^157 + -2*x^159 + x^160 + x^161 + -1*x^162 + x^163 + x^167 + -1*x^168 + -2*x^169 + -1*x^170 + 2*x^171 + x^174 + -1*x^177 + -1*x^178 + 2*x^182 + x^183 + x^184 + -1*x^185 + -1*x^187 + -1*x^188 + -2*x^191 + 2*x^195 + -1*x^196 + -1*x^198 + -2*x^201 + x^202 + 2*x^203 + x^205 + x^206 + -1*x^207 + 2*x^209 + -1*x^210 + x^211 + 2*x^212 + x^213 + 2*x^216 + x^218 + x^220 + x^223 + x^224 + -2*x^227 + 2*x^228 + -1*x^230 + -1*x^231 + -2*x^232 + -1*x^233 + x^234 + -2*x^235 + -1*x^239 + -1*x^240 + 2*x^242 + -2*x^243 + x^246 + -1*x^247 + x^248 + 2*x^250 + x^252 + x^253 + -1*x^254 + x^255]\n",
       "[-1 + 2*x + x^2 + -1*x^3 + -1*x^5 + -1*x^6 + -1*x^8 + -1*x^9 + -2*x^11 + 2*x^12 + 2*x^14 + -1*x^15 + -1*x^17 + -2*x^18 + -1*x^19 + x^21 + -1*x^22 + -1*x^23 + -1*x^24 + 2*x^25 + -1*x^26 + -1*x^27 + -1*x^33 + x^34 + -1*x^35 + x^36 + -1*x^37 + 2*x^39 + x^40 + x^41 + -1*x^42 + -1*x^43 + -2*x^44 + -2*x^46 + -2*x^48 + 2*x^49 + x^50 + x^53 + -1*x^54 + -2*x^55 + -1*x^59 + -1*x^61 + x^63 + x^64 + x^65 + -1*x^66 + -1*x^67 + x^69 + x^70 + x^73 + -2*x^74 + 2*x^75 + -1*x^76 + x^79 + -2*x^82 + x^84 + -1*x^85 + -1*x^87 + 2*x^89 + x^90 + 2*x^94 + x^95 + -1*x^96 + -1*x^97 + -2*x^99 + -1*x^102 + x^103 + -2*x^105 + x^108 + x^109 + 2*x^110 + -2*x^112 + -1*x^117 + -1*x^118 + x^119 + x^121 + x^125 + x^126 + -1*x^127 + -1*x^129 + x^130 + -2*x^131 + x^132 + -1*x^134 + 2*x^135 + x^136 + -1*x^137 + x^138 + x^139 + -1*x^140 + x^141 + -1*x^142 + -1*x^143 + -2*x^144 + -2*x^145 + -1*x^146 + x^147 + -1*x^148 + x^149 + -1*x^150 + 2*x^152 + x^156 + x^157 + -2*x^159 + -1*x^160 + x^162 + x^164 + x^165 + x^166 + 2*x^167 + -1*x^168 + x^169 + x^171 + x^174 + -2*x^176 + -1*x^181 + -1*x^183 + -2*x^184 + -1*x^186 + -2*x^187 + -1*x^188 + -1*x^189 + x^190 + -1*x^191 + -1*x^192 + x^196 + 2*x^198 + x^200 + x^201 + -1*x^202 + -1*x^204 + -1*x^205 + -1*x^206 + x^207 + x^208 + x^209 + -1*x^210 + -1*x^211 + x^212 + x^215 + -1*x^216 + -2*x^217 + x^218 + x^219 + x^220 + x^222 + x^224 + x^225 + -1*x^226 + x^229 + -2*x^230 + x^231 + x^232 + x^236 + -1*x^237 + -1*x^238 + -2*x^240 + x^241 + -1*x^243 + -2*x^244 + x^247 + x^249 + 2*x^250 + x^252 + -1*x^255]"
      ]
     },
     "execution_count": 11,
     "metadata": {},
     "output_type": "execute_result"
    }
   ],
   "source": [
    "Kyber512._generate_error_vector_v"
   ]
  },
  {
   "cell_type": "code",
   "execution_count": 15,
   "metadata": {},
   "outputs": [
    {
     "data": {
      "text/plain": [
       "4"
      ]
     },
     "execution_count": 15,
     "metadata": {},
     "output_type": "execute_result"
    }
   ],
   "source": [
    "Kyber512._generate_error_vector_N"
   ]
  },
  {
   "cell_type": "code",
   "execution_count": null,
   "metadata": {},
   "outputs": [],
   "source": []
  }
 ],
 "metadata": {
  "kernelspec": {
   "display_name": "kyber",
   "language": "python",
   "name": "python3"
  },
  "language_info": {
   "codemirror_mode": {
    "name": "ipython",
    "version": 3
   },
   "file_extension": ".py",
   "mimetype": "text/x-python",
   "name": "python",
   "nbconvert_exporter": "python",
   "pygments_lexer": "ipython3",
   "version": "3.12.3"
  }
 },
 "nbformat": 4,
 "nbformat_minor": 2
}
